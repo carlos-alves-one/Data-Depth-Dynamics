{
 "cells": [
  {
   "attachments": {},
   "cell_type": "markdown",
   "metadata": {},
   "source": [
    "## Goldsmiths University of London\n",
    "### Authors...: Sandor Kanda (skand001) + Carlos Alves (cdeol003)\n",
    "### Created...: 14/02/2023\n",
    "\n",
    "## Data Mining Coursework"
   ]
  },
  {
   "attachments": {},
   "cell_type": "markdown",
   "metadata": {},
   "source": [
    "## Import the necessary libraries and load the datasets :"
   ]
  },
  {
   "cell_type": "code",
   "execution_count": 25,
   "metadata": {},
   "outputs": [],
   "source": [
    "# Import pandas for data manipulation using dataframes\n",
    "import pandas as pd\n",
    "\n",
    "# Import numpy for data statistical analysis\n",
    "import numpy as np\n",
    "\n",
    "# Import matplotlib for data visualisation\n",
    "import matplotlib.pyplot as plt\n",
    "\n",
    "# Load the dataset from the CSV file using pandas\n",
    "train_data = pd.read_csv('sonar_train.csv')\n",
    "test_data = pd.read_csv('sonar_test.csv')\n"
   ]
  },
  {
   "attachments": {},
   "cell_type": "markdown",
   "metadata": {},
   "source": [
    "## Define a function to compute the Minkowski distance between two points :"
   ]
  },
  {
   "cell_type": "code",
   "execution_count": 26,
   "metadata": {},
   "outputs": [],
   "source": [
    "# Define a function to compute the Minkowski distance between two points\n",
    "def minkowski_distance(a, b, q):\n",
    "\n",
    "    # Compute the sum of the absolute value of the difference between the points raised to the qth power\n",
    "    return np.power(np.sum(np.power(np.abs(a - b), q)), 1/q)\n"
   ]
  },
  {
   "attachments": {},
   "cell_type": "markdown",
   "metadata": {},
   "source": [
    "## Define the simplest Nearest Neighbor algorithm function : "
   ]
  },
  {
   "cell_type": "code",
   "execution_count": 27,
   "metadata": {},
   "outputs": [],
   "source": [
    "# Define a function to compute the nearest neighbor of a point\n",
    "def nearest_neighbor(train_data, test_data, q):\n",
    "\n",
    "    # Initialise the minimum distance to infinity\n",
    "    predictions = []\n",
    "\n",
    "    # Loop through each test point\n",
    "    for idx, test_point in test_data.iterrows():\n",
    "\n",
    "        # Initialise the minimum distance to infinity\n",
    "        min_distance = float('inf')\n",
    "\n",
    "        # Loop through each training point\n",
    "        nearest_class = None\n",
    "        for _, train_point in train_data.iterrows():\n",
    "\n",
    "            # Compute the distance between the test point and the training point\n",
    "            distance = minkowski_distance(test_point[:-1], train_point[:-1], q)\n",
    "            \n",
    "            # If the distance is less than the minimum distance, update the nearest neighbor and minimum distance\n",
    "            if distance < min_distance:\n",
    "\n",
    "                # Update the minimum distance\n",
    "                min_distance = distance\n",
    "\n",
    "                # Update the nearest neighbor\n",
    "                nearest_class = train_point['Class']\n",
    "\n",
    "        # Append the nearest neighbor to the list of predictions\n",
    "        predictions.append(nearest_class)\n",
    "\n",
    "    # Return the list of predictions\n",
    "    return predictions\n"
   ]
  },
  {
   "attachments": {},
   "cell_type": "markdown",
   "metadata": {},
   "source": [
    "## Define a function to compute the performance metrics (accuracy, recall, precision, and F1 measure) :"
   ]
  },
  {
   "cell_type": "code",
   "execution_count": 28,
   "metadata": {},
   "outputs": [],
   "source": [
    "# Define a function to compute the accuracy of the model\n",
    "def compute_metrics(y_true, y_pred):\n",
    "\n",
    "    # Initialise the true positive, true negative, false positive, and false negative counts\n",
    "    tp, tn, fp, fn = 0, 0, 0, 0\n",
    "\n",
    "    # Loop through each true and predicted label\n",
    "    for true, pred in zip(y_true, y_pred):\n",
    "\n",
    "        # Update the true positive, true negative, false positive, and false negative counts\n",
    "        if true == 'M' and pred == 'M':\n",
    "            tp += 1\n",
    "        elif true == 'M' and pred == 'R':\n",
    "            fn += 1\n",
    "        elif true == 'R' and pred == 'M':\n",
    "            fp += 1\n",
    "        elif true == 'R' and pred == 'R':\n",
    "            tn += 1\n",
    "\n",
    "    # Compute the accuracy, recall, precision, and F1 measure\n",
    "    accuracy = (tp + tn) / (tp + tn + fp + fn)\n",
    "    recall = tp / (tp + fn)\n",
    "    precision = tp / (tp + fp)\n",
    "    f1_measure = 2 * precision * recall / (precision + recall)\n",
    "\n",
    "    # Return the accuracy, recall, precision, and F1 measure\n",
    "    return accuracy, recall, precision, f1_measure\n"
   ]
  },
  {
   "attachments": {},
   "cell_type": "markdown",
   "metadata": {},
   "source": [
    "## Run the Nearest Neighbor algorithm with Manhattan (q=1) and Euclidean (q=2) distances :"
   ]
  },
  {
   "cell_type": "code",
   "execution_count": 29,
   "metadata": {},
   "outputs": [
    {
     "name": "stdout",
     "output_type": "stream",
     "text": [
      "Results for q = 1:\n",
      "  Accuracy...: 88.41%\n",
      "  Recall.....: 94.59%\n",
      "  Precision..: 85.37%\n",
      "  F1 Measure.: 89.74%\n",
      "\n",
      "Results for q = 2:\n",
      "  Accuracy...: 89.86%\n",
      "  Recall.....: 97.30%\n",
      "  Precision..: 85.71%\n",
      "  F1 Measure.: 91.14%\n",
      "\n"
     ]
    }
   ],
   "source": [
    "# Compute the nearest neighbor for each value of q\n",
    "for q in [1, 2]:\n",
    "\n",
    "    # Compute the nearest neighbor\n",
    "    predictions = nearest_neighbor(train_data, test_data, q)\n",
    "\n",
    "    # Compute the accuracy, recall, precision, and F1 measure\n",
    "    accuracy, recall, precision, f1_measure = compute_metrics(test_data['Class'], predictions)\n",
    "\n",
    "    # Print the results for each value of q\n",
    "    print(f\"Results for q = {q}:\")\n",
    "    print(f\"  Accuracy...: {accuracy:.2%}\")\n",
    "    print(f\"  Recall.....: {recall:.2%}\")\n",
    "    print(f\"  Precision..: {precision:.2%}\")\n",
    "    print(f\"  F1 Measure.: {f1_measure:.2%}\")\n",
    "    print()\n"
   ]
  },
  {
   "attachments": {},
   "cell_type": "markdown",
   "metadata": {},
   "source": [
    "## Run the Nearest Neighbor algorithm for q values from 1 to 20 and display the results in a chart :"
   ]
  },
  {
   "cell_type": "code",
   "execution_count": 30,
   "metadata": {},
   "outputs": [],
   "source": [
    "# Compute the nearest neighbor for each value of q\n",
    "q_values = list(range(1, 21))\n",
    "\n",
    "# Initialise the lists to store the performance metrics\n",
    "accuracies, recalls, precisions, f1_measures = [], [], [], []\n",
    "\n",
    "# Compute the nearest neighbor for each value of q\n",
    "for q in q_values:\n",
    "\n",
    "    # Compute the nearest neighbor\n",
    "    predictions = nearest_neighbor(train_data, test_data, q)\n",
    "\n",
    "    # Compute the accuracy, recall, precision, and F1 measure\n",
    "    accuracy, recall, precision, f1_measure = compute_metrics(test_data['Class'], predictions)\n",
    "    \n",
    "    # Append the performance metrics to the lists\n",
    "    accuracies.append(accuracy)\n",
    "    recalls.append(recall)\n",
    "    precisions.append(precision)\n",
    "    f1_measures.append(f1_measure)\n",
    "\n",
    "# Plot the performance metrics for each value of q\n",
    "plt.plot(q_values, accuracies, label='Accuracy')\n",
    "plt.plot(q_values, recalls, label='Recall')\n",
    "plt.plot(q_values, precisions, label='Precision')\n",
    "plt.plot(q_values, f1_measures, label='F1 Measure')\n",
    "plt.xlabel('q Value')\n",
    "plt.ylabel('Performance Metrics')\n",
    "plt.legend()\n",
    "plt.title('Performance Metrics for Different q Values')\n",
    "plt.show()\n",
    "\n",
    "# Find the best value of q\n",
    "best_q = np.argmax(accuracies) + 1\n",
    "best_accuracy = max(accuracies)\n",
    "\n",
    "# Print the best value of q\n",
    "print(f\"The best accuracy is achieved for q = {best_q} with an accuracy of {best_accuracy:.2%}\")\n"
   ]
  }
 ],
 "metadata": {
  "kernelspec": {
   "display_name": "Python 3",
   "language": "python",
   "name": "python3"
  },
  "language_info": {
   "codemirror_mode": {
    "name": "ipython",
    "version": 3
   },
   "file_extension": ".py",
   "mimetype": "text/x-python",
   "name": "python",
   "nbconvert_exporter": "python",
   "pygments_lexer": "ipython3",
   "version": "3.9.13"
  },
  "orig_nbformat": 4
 },
 "nbformat": 4,
 "nbformat_minor": 2
}
