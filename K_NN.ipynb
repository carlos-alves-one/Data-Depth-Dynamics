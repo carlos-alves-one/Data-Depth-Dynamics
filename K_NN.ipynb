{
 "cells": [
  {
   "attachments": {},
   "cell_type": "markdown",
   "metadata": {},
   "source": [
    "## Goldsmiths University of London\n",
    "### Authors...: Sandor Kanda (skand001) + Carlos Alves (cdeol003)\n",
    "### Created...: 14/02/2023\n",
    "\n",
    "## Data Mining Coursework"
   ]
  },
  {
   "cell_type": "code",
   "execution_count": 1,
   "metadata": {},
   "outputs": [],
   "source": [
    "# Import necessary libraries for this coursework\n",
    "\n",
    "# Import pandas for data manipulation\n",
    "import pandas as pd\n",
    "\n",
    "# Import numpy for numerical calculations\n",
    "import numpy as np\n",
    "\n",
    "# Import matplotlib for plotting\n",
    "import matplotlib.pyplot as plt"
   ]
  },
  {
   "cell_type": "code",
   "execution_count": 2,
   "metadata": {},
   "outputs": [],
   "source": [
    "# Load the training and test datasets\n",
    "train_data = pd.read_csv(\"sonar_train.csv\")\n",
    "test_data = pd.read_csv(\"sonar_test.csv\")"
   ]
  },
  {
   "cell_type": "code",
   "execution_count": 3,
   "metadata": {},
   "outputs": [],
   "source": [
    "# Define a function to calculate the Minkowski distance\n",
    "def minkowski_distance(a, b, q):\n",
    "\n",
    "    # Calculate the Minkowski distance between two vectors\n",
    "    return np.sum(np.abs(a - b) ** q) ** (1 / q)"
   ]
  },
  {
   "cell_type": "code",
   "execution_count": 4,
   "metadata": {},
   "outputs": [],
   "source": [
    "# Define functions to calculate accuracy, recall, precision, and F1 measure:\n",
    "\n",
    "# Define function accuracy = (TP + TN) / (TP + TN + FP + FN)\n",
    "def accuracy(y_true, y_pred):\n",
    "\n",
    "    # Calculate and return the accuracy of the model\n",
    "    return np.sum(y_true == y_pred) / len(y_true)\n",
    "\n",
    "# Define function recall = TP / (TP + FN)\n",
    "def recall(y_true, y_pred):\n",
    "\n",
    "    # Calculate and return the recall of the model\n",
    "    tp = np.sum((y_true == 'M') & (y_pred == 'M'))\n",
    "    fn = np.sum((y_true == 'M') & (y_pred == 'R'))\n",
    "    return tp / (tp + fn)\n",
    "\n",
    "# Define function precision = TP / (TP + FP)\n",
    "def precision(y_true, y_pred):\n",
    "\n",
    "    # Calculate and return the precision of the model\n",
    "    tp = np.sum((y_true == 'M') & (y_pred == 'M'))\n",
    "    fp = np.sum((y_true == 'R') & (y_pred == 'M'))\n",
    "    return tp / (tp + fp)\n",
    "\n",
    "# Define function F1 = 2 * (precision * recall) / (precision + recall)\n",
    "def f1_measure(y_true, y_pred):\n",
    "\n",
    "    # Calculate and return the F1 measure of the model\n",
    "    r = recall(y_true, y_pred)\n",
    "    p = precision(y_true, y_pred)\n",
    "    return 2 * r * p / (r + p)"
   ]
  },
  {
   "cell_type": "code",
   "execution_count": 5,
   "metadata": {},
   "outputs": [],
   "source": [
    "# Implement the simplest Nearest Neighbour algorithm with the Minkowski distance\n",
    "\n",
    "# Define a function to calculate the nearest neighbour\n",
    "def nearest_neighbour(train_data, test_data, q):\n",
    "\n",
    "    # Calculate the nearest neighbour of each test data point\n",
    "\n",
    "    # Initialise a list to store the predicted classes\n",
    "    y_pred = []\n",
    "\n",
    "    # Iterate over each test data point\n",
    "    for index, test_row in test_data.iterrows():\n",
    "\n",
    "        # Extract the features of the test data point\n",
    "        test_features = test_row.drop(\"Class\").values\n",
    "\n",
    "        # Initialise the minimum distance to infinity\n",
    "        min_distance = float(\"inf\")\n",
    "\n",
    "        # Iterate over each training data point\n",
    "        nearest_class = None\n",
    "        for _, train_row in train_data.iterrows():\n",
    "\n",
    "            # Extract the features of the training data point\n",
    "            train_features = train_row.drop(\"Class\").values\n",
    "\n",
    "            # Calculate the Minkowski distance between the test and training data points\n",
    "            distance = minkowski_distance(test_features, train_features, q)\n",
    "\n",
    "            # Update the minimum distance and nearest class\n",
    "            if distance < min_distance:\n",
    "\n",
    "                # Update the minimum distance and nearest class\n",
    "                min_distance = distance\n",
    "                nearest_class = train_row[\"Class\"]\n",
    "\n",
    "        # Append the nearest class to the list of predicted classes\n",
    "        y_pred.append(nearest_class)\n",
    "\n",
    "    # Return the list of predicted classes\n",
    "    return y_pred"
   ]
  },
  {
   "cell_type": "code",
   "execution_count": null,
   "metadata": {},
   "outputs": [],
   "source": [
    "# Run the algorithm for Manhattan distance (q=1) and Euclidean distance (q=2)\n",
    "\n",
    "# Extract the true classes of the test data\n",
    "y_true = test_data[\"Class\"].values\n",
    "\n",
    "# Run the algorithm for q=1 and q=2\n",
    "for q in [1, 2]:\n",
    "\n",
    "    # Calculate the predicted classes\n",
    "    y_pred = nearest_neighbour(train_data, test_data, q)\n",
    "\n",
    "    # Print the accuracy, recall, precision, and F1 measure\n",
    "    print(f\"q = {q}\")\n",
    "    print(f\"Accuracy: {accuracy(y_true, y_pred):.4f}\")\n",
    "    print(f\"Recall: {recall(y_true, y_pred):.4f}\")\n",
    "    print(f\"Precision"
   ]
  }
 ],
 "metadata": {
  "kernelspec": {
   "display_name": "Python 3",
   "language": "python",
   "name": "python3"
  },
  "language_info": {
   "codemirror_mode": {
    "name": "ipython",
    "version": 3
   },
   "file_extension": ".py",
   "mimetype": "text/x-python",
   "name": "python",
   "nbconvert_exporter": "python",
   "pygments_lexer": "ipython3",
   "version": "3.9.13"
  },
  "orig_nbformat": 4
 },
 "nbformat": 4,
 "nbformat_minor": 2
}
