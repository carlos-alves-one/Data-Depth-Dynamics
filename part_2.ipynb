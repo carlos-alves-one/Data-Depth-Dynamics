{
  "cells": [
    {
      "cell_type": "markdown",
      "metadata": {
        "id": "view-in-github",
        "colab_type": "text"
      },
      "source": [
        "<a href=\"https://colab.research.google.com/github/carlos-alves-one/DM-Coursework/blob/main/part_2.ipynb\" target=\"_parent\"><img src=\"https://colab.research.google.com/assets/colab-badge.svg\" alt=\"Open In Colab\"/></a>"
      ]
    },
    {
      "cell_type": "markdown",
      "metadata": {
        "id": "glykCN2vTkNx"
      },
      "source": [
        "## Goldsmiths University of London\n",
        "### Authors...: Sandor Kanda (skand001) + Carlos Alves (cdeol003)\n",
        "### Created...: 14/02/2023\n",
        "\n",
        "## Data Mining Coursework - Part 2"
      ]
    },
    {
      "cell_type": "markdown",
      "metadata": {
        "id": "9hQArBHgTkN0"
      },
      "source": [
        "## Import the necessary libraries and load the datasets :"
      ]
    },
    {
      "cell_type": "code",
      "execution_count": 1,
      "metadata": {
        "id": "vix4U_nETkN1"
      },
      "outputs": [],
      "source": [
        "# Import numpy for numerical computing\n",
        "import numpy as np\n",
        "\n",
        "# Import pandas for data manipulation\n",
        "import pandas as pd\n",
        "\n",
        "# Import matplotlib for visualization\n",
        "import matplotlib.pyplot as plt\n",
        "\n",
        "# Import seaborn for visualization\n",
        "import seaborn as sns\n",
        "\n",
        "# Import sklearn model selection for splitting data into training and testing sets, grid search for hyperparameter tuning and cross validation\n",
        "from sklearn.model_selection import train_test_split, GridSearchCV, cross_val_score\n",
        "\n",
        "# Import sklearn metrics for k-nearest neighbors classifier\n",
        "from sklearn.neighbors import KNeighborsClassifier\n",
        "\n",
        "# Import sklearn metrics for decision tree classifier\n",
        "from sklearn.tree import DecisionTreeClassifier\n",
        "\n",
        "# Import sklearn metrics for random forest classifier, bagging classifier and adaboost classifier\n",
        "from sklearn.ensemble import RandomForestClassifier, BaggingClassifier, AdaBoostClassifier\n",
        "\n",
        "# Import sklearn metrics for support vector machine classifier\n",
        "from sklearn.svm import SVC\n",
        "\n",
        "# Import sklearn metrics for accuracy score, confusion matrix and classification report\n",
        "from sklearn.metrics import accuracy_score, confusion_matrix, classification_report\n",
        "\n",
        "# Load the datasets\n",
        "train_df = pd.read_csv(\"creditdefault_train.csv\")\n",
        "test_df = pd.read_csv(\"creditdefault_test.csv\")\n"
      ]
    },
    {
      "cell_type": "markdown",
      "metadata": {
        "id": "6ODvVztUTkN3"
      },
      "source": [
        "## Split the training and testing datasets :"
      ]
    },
    {
      "cell_type": "code",
      "execution_count": 2,
      "metadata": {
        "id": "SShUG7tNTkN4"
      },
      "outputs": [],
      "source": [
        "# Split the training dataset into features and target variables\n",
        "X_train = train_df.drop(\"Y\", axis=1)\n",
        "y_train = train_df[\"Y\"]\n",
        "\n",
        "# Split the testing dataset into features and target variables\n",
        "X_test = test_df.drop(\"Y\", axis=1)\n",
        "y_test = test_df[\"Y\"]\n"
      ]
    },
    {
      "cell_type": "code",
      "execution_count": 3,
      "metadata": {
        "id": "xvkWlq2QTkN4"
      },
      "outputs": [],
      "source": [
        "# Dictionary to store the best models and their scores\n",
        "best_models = {}\n"
      ]
    },
    {
      "cell_type": "markdown",
      "metadata": {
        "id": "_qrbGcJQTkN5"
      },
      "source": [
        "## 1. k-Nearest Neighbours :"
      ]
    },
    {
      "cell_type": "code",
      "execution_count": 4,
      "metadata": {
        "id": "0IF1NlOaTkN6"
      },
      "outputs": [],
      "source": [
        "# Store the instance of the k-nearest neighbors classifier\n",
        "knn = KNeighborsClassifier()\n",
        "\n",
        "# Create a dictionary of hyperparameters to tune\n",
        "knn_params = {'n_neighbors': list(range(1, 50))}\n",
        "\n",
        "# Perform grid search to find the best hyperparameters\n",
        "knn_grid = GridSearchCV(knn, knn_params, cv=5, scoring='accuracy')\n",
        "\n",
        "# Fit the grid search object to the training data\n",
        "knn_grid.fit(X_train, y_train)\n",
        "\n",
        "# Store the best model and its score\n",
        "best_knn = knn_grid.best_estimator_\n",
        "knn_score = knn_grid.best_score_\n",
        "\n",
        "# Add the best model and its score to the dictionary\n",
        "best_models['kNN'] = (best_knn, knn_score)\n"
      ]
    },
    {
      "cell_type": "markdown",
      "metadata": {
        "id": "FYvVrxXOTkN8"
      },
      "source": [
        "## 2. Decision Trees :"
      ]
    },
    {
      "cell_type": "code",
      "execution_count": 5,
      "metadata": {
        "id": "ZvqALVPgTkN9"
      },
      "outputs": [],
      "source": [
        "# Store the instance of the decision tree classifier\n",
        "dt = DecisionTreeClassifier(random_state=42)\n",
        "\n",
        "# Create a dictionary of hyperparameters to tune\n",
        "dt_params = {'max_depth': list(range(1, 20))}\n",
        "\n",
        "# Perform grid search to find the best hyperparameters\n",
        "dt_grid = GridSearchCV(dt, dt_params, cv=5, scoring='accuracy')\n",
        "\n",
        "# Fit the grid search object to the training data\n",
        "dt_grid.fit(X_train, y_train)\n",
        "\n",
        "# Store the best model and its score\n",
        "best_dt = dt_grid.best_estimator_\n",
        "dt_score = dt_grid.best_score_\n",
        "\n",
        "# Add the best model and its score to the dictionary\n",
        "best_models['Decision Tree'] = (best_dt, dt_score)\n"
      ]
    },
    {
      "cell_type": "markdown",
      "metadata": {
        "id": "yqlodchUTkN-"
      },
      "source": [
        "## 3. Random Forest :"
      ]
    },
    {
      "cell_type": "code",
      "execution_count": 6,
      "metadata": {
        "id": "hHXpztbuTkN_"
      },
      "outputs": [],
      "source": [
        "# Store the instance of the random forest classifier\n",
        "rf = RandomForestClassifier(random_state=42)\n",
        "\n",
        "# Create a dictionary of hyperparameters to tune\n",
        "rf_params = {'n_estimators': [10, 50, 100, 150, 200]}\n",
        "\n",
        "# Perform grid search to find the best hyperparameters\n",
        "rf_grid = GridSearchCV(rf, rf_params, cv=5, scoring='accuracy')\n",
        "\n",
        "# Fit the grid search object to the training data\n",
        "rf_grid.fit(X_train, y_train)\n",
        "\n",
        "# Store the best model and its score\n",
        "best_rf = rf_grid.best_estimator_\n",
        "rf_score = rf_grid.best_score_\n",
        "\n",
        "# Add the best model and its score to the dictionary\n",
        "best_models['Random Forest'] = (best_rf, rf_score)\n"
      ]
    },
    {
      "cell_type": "markdown",
      "metadata": {
        "id": "Ju98unp1TkOA"
      },
      "source": [
        "## 4. Bagging :"
      ]
    },
    {
      "cell_type": "code",
      "execution_count": 7,
      "metadata": {
        "id": "3GpE9AeDTkOB"
      },
      "outputs": [],
      "source": [
        "# Store the instance of bagging classifier\n",
        "bag = BaggingClassifier(random_state=42)\n",
        "\n",
        "# Create a dictionary of hyperparameters to tune\n",
        "bag_params = {'n_estimators': [10, 50, 100, 150, 200]}\n",
        "\n",
        "# Perform grid search to find the best hyperparameters\n",
        "bag_grid = GridSearchCV(bag, bag_params, cv=5, scoring='accuracy')\n",
        "\n",
        "# Fit the grid search object to the training data\n",
        "bag_grid.fit(X_train, y_train)\n",
        "\n",
        "# Store the best model and its score\n",
        "best_bag = bag_grid.best_estimator_\n",
        "bag_score = bag_grid.best_score_\n",
        "\n",
        "# Add the best model and its score to the dictionary\n",
        "best_models['Bagging'] = (best_bag, bag_score)\n"
      ]
    },
    {
      "cell_type": "markdown",
      "metadata": {
        "id": "bqP8VNHfTkOB"
      },
      "source": [
        "## 5. AdaBoost :"
      ]
    },
    {
      "cell_type": "code",
      "execution_count": 8,
      "metadata": {
        "id": "m68ACaR1TkOC"
      },
      "outputs": [],
      "source": [
        "# Store the instance of adaboost classifier\n",
        "ada = AdaBoostClassifier(random_state=42)\n",
        "\n",
        "# Create a dictionary of hyperparameters to tune\n",
        "ada_params = {'n_estimators': [10, 50, 100, 150, 200]}\n",
        "\n",
        "# Perform grid search to find the best hyperparameters\n",
        "ada_grid = GridSearchCV(ada, ada_params, cv=5, scoring='accuracy')\n",
        "\n",
        "# Fit the grid search object to the training data\n",
        "ada_grid.fit(X_train, y_train)\n",
        "\n",
        "# Store the best model and its score\n",
        "best_ada = ada_grid.best_estimator_\n",
        "ada_score = ada_grid.best_score_\n",
        "\n",
        "# Add the best model and its score to the dictionary\n",
        "best_models['AdaBoost'] = (best_ada, ada_score)\n"
      ]
    },
    {
      "cell_type": "markdown",
      "metadata": {
        "id": "n-5gqAvVTkOC"
      },
      "source": [
        "## 6. SVM :"
      ]
    },
    {
      "cell_type": "code",
      "execution_count": 9,
      "metadata": {
        "id": "OwQyPS3rTkOD"
      },
      "outputs": [],
      "source": [
        "# # Store the instance of support vector machine classifier\n",
        "# svm = SVC(random_state=42)\n",
        "\n",
        "# # Create a dictionary of hyperparameters to tune\n",
        "# svm_params = {'C': [0.1, 1, 10, 100], 'kernel': ['linear', 'rbf']}\n",
        "\n",
        "# # Perform grid search to find the best hyperparameters\n",
        "# svm_grid = GridSearchCV(svm, svm_params, cv=5, scoring='accuracy')\n",
        "\n",
        "# # Fit the grid search object to the training data\n",
        "# svm_grid.fit(X_train, y_train)\n",
        "\n",
        "# # Store the best model and its score\n",
        "# best_svm = svm_grid.best_estimator_\n",
        "# svm_score = svm_grid.best_score_\n",
        "\n",
        "# # Add the best model and its score to the dictionary\n",
        "# best_models['SVM'] = (best_svm, svm_score)\n"
      ]
    },
    {
      "cell_type": "markdown",
      "metadata": {
        "id": "cI1OjRfBTkOE"
      },
      "source": [
        "## Select the best model :"
      ]
    },
    {
      "cell_type": "code",
      "execution_count": 10,
      "metadata": {
        "colab": {
          "base_uri": "https://localhost:8080/"
        },
        "id": "zSTaQo9CTkOE",
        "outputId": "baa090bf-ad99-4281-d6f3-df310fcd7d82"
      },
      "outputs": [
        {
          "output_type": "stream",
          "name": "stdout",
          "text": [
            "Best Model: Decision Tree with accuracy 82.19%\n",
            "Best Model Parameters: {'ccp_alpha': 0.0, 'class_weight': None, 'criterion': 'gini', 'max_depth': 1, 'max_features': None, 'max_leaf_nodes': None, 'min_impurity_decrease': 0.0, 'min_samples_leaf': 1, 'min_samples_split': 2, 'min_weight_fraction_leaf': 0.0, 'random_state': 42, 'splitter': 'best'}\n"
          ]
        }
      ],
      "source": [
        "# Find the best model and its score\n",
        "best_model_name, (best_model, best_score) = max(best_models.items(), key=lambda x: x[1][1])\n",
        "\n",
        "# Print the best model and its score\n",
        "print(f\"Best Model: {best_model_name} with accuracy {best_score:.2%}\")\n",
        "print(\"Best Model Parameters:\", best_model.get_params())\n"
      ]
    },
    {
      "cell_type": "markdown",
      "metadata": {
        "id": "pHEGcNgATkOE"
      },
      "source": [
        "## Evaluate the best model on the test set :"
      ]
    },
    {
      "cell_type": "code",
      "execution_count": 11,
      "metadata": {
        "colab": {
          "base_uri": "https://localhost:8080/"
        },
        "id": "G65edKSaTkOE",
        "outputId": "809d07ab-e971-4469-ae07-dbf4d99b0e0e"
      },
      "outputs": [
        {
          "output_type": "stream",
          "name": "stdout",
          "text": [
            "Accuracy: 0.8172666666666667\n",
            "Confusion Matrix:\n",
            " [[11181   501]\n",
            " [ 2240  1078]]\n",
            "Classification Report:\n",
            "               precision    recall  f1-score   support\n",
            "\n",
            "           0       0.83      0.96      0.89     11682\n",
            "           1       0.68      0.32      0.44      3318\n",
            "\n",
            "    accuracy                           0.82     15000\n",
            "   macro avg       0.76      0.64      0.67     15000\n",
            "weighted avg       0.80      0.82      0.79     15000\n",
            "\n"
          ]
        }
      ],
      "source": [
        "# Predict the target variable for the test dataset\n",
        "y_pred = best_model.predict(X_test)\n",
        "\n",
        "# Print the accuracy score, confusion matrix and classification report\n",
        "print(\"Accuracy:\", accuracy_score(y_test, y_pred))\n",
        "print(\"Confusion Matrix:\\n\", confusion_matrix(y_test, y_pred))\n",
        "print(\"Classification Report:\\n\", classification_report(y_test, y_pred))\n"
      ]
    },
    {
      "cell_type": "markdown",
      "metadata": {
        "id": "lugOCk8GTkOE"
      },
      "source": [
        "## Plot hyperparameter vs accuracy for each algorithm :"
      ]
    },
    {
      "cell_type": "code",
      "execution_count": 12,
      "metadata": {
        "colab": {
          "base_uri": "https://localhost:8080/",
          "height": 53
        },
        "id": "91f_-NmmTkOF",
        "outputId": "e01e95a2-83f5-46be-bfe8-cfb8b4437b7f"
      },
      "outputs": [
        {
          "output_type": "execute_result",
          "data": {
            "text/plain": [
              "<Figure size 1080x720 with 0 Axes>"
            ]
          },
          "metadata": {},
          "execution_count": 12
        },
        {
          "output_type": "display_data",
          "data": {
            "text/plain": [
              "<Figure size 1080x720 with 0 Axes>"
            ]
          },
          "metadata": {}
        }
      ],
      "source": [
        "# Create a new empty figure with a size of 15 x 10\n",
        "plt.figure(figsize=(15, 10))\n"
      ]
    },
    {
      "cell_type": "markdown",
      "metadata": {
        "id": "ypf_3OgyTkOF"
      },
      "source": [
        "## 1. kNN :"
      ]
    },
    {
      "cell_type": "code",
      "execution_count": 13,
      "metadata": {
        "colab": {
          "base_uri": "https://localhost:8080/",
          "height": 195
        },
        "id": "gOPRVHvOTkOF",
        "outputId": "38d50b09-c6e7-44ab-9945-0e46dbc31cc4"
      },
      "outputs": [
        {
          "output_type": "execute_result",
          "data": {
            "text/plain": [
              "Text(0, 0.5, 'Accuracy')"
            ]
          },
          "metadata": {},
          "execution_count": 13
        },
        {
          "output_type": "display_data",
          "data": {
            "text/plain": [
              "<Figure size 432x288 with 1 Axes>"
            ],
            "image/png": "[encoded data removed]"
          },
          "metadata": {
            "needs_background": "light"
          }
        }
      ],
      "source": [
        "# Create a subplot with 2 rows and 3 columns\n",
        "plt.subplot(231)\n",
        "\n",
        "# Plot the training and testing accuracies\n",
        "plt.plot(list(range(1, 50)), knn_grid.cv_results_['mean_test_score'])\n",
        "\n",
        "# Set the title, x-axis label and y-axis label\n",
        "plt.title('kNN')\n",
        "plt.xlabel('Number of Neighbors')\n",
        "plt.ylabel('Accuracy')\n"
      ]
    },
    {
      "cell_type": "markdown",
      "metadata": {
        "id": "5hVQ8lMMTkOF"
      },
      "source": [
        "## 2. Decison Tree :"
      ]
    },
    {
      "cell_type": "code",
      "execution_count": 14,
      "metadata": {
        "colab": {
          "base_uri": "https://localhost:8080/",
          "height": 195
        },
        "id": "Yv-9o-isTkOG",
        "outputId": "a322651e-7c71-4530-9cc9-5a1c799b3f7e"
      },
      "outputs": [
        {
          "output_type": "execute_result",
          "data": {
            "text/plain": [
              "Text(0, 0.5, 'Accuracy')"
            ]
          },
          "metadata": {},
          "execution_count": 14
        },
        {
          "output_type": "display_data",
          "data": {
            "text/plain": [
              "<Figure size 432x288 with 1 Axes>"
            ],
            "image/png": "[encoded data removed]"
          },
          "metadata": {
            "needs_background": "light"
          }
        }
      ],
      "source": [
        "# Create a subplot with 2 rows and 3 columns\n",
        "plt.subplot(232)\n",
        "\n",
        "# Plot the training and testing accuracies\n",
        "plt.plot(list(range(1, 20)), dt_grid.cv_results_['mean_test_score'])\n",
        "\n",
        "# Set the title, x-axis label and y-axis label\n",
        "plt.title('Decision Tree')\n",
        "plt.xlabel('Max Depth')\n",
        "plt.ylabel('Accuracy')\n"
      ]
    },
    {
      "cell_type": "markdown",
      "metadata": {
        "id": "gmGpQEX_TkOG"
      },
      "source": [
        "## 3. Random Forest :"
      ]
    },
    {
      "cell_type": "code",
      "execution_count": 15,
      "metadata": {
        "colab": {
          "base_uri": "https://localhost:8080/",
          "height": 195
        },
        "id": "-bQNA-hsTkOG",
        "outputId": "19b1c04d-e014-45f7-c51a-1371e616f01a"
      },
      "outputs": [
        {
          "output_type": "execute_result",
          "data": {
            "text/plain": [
              "Text(0, 0.5, 'Accuracy')"
            ]
          },
          "metadata": {},
          "execution_count": 15
        },
        {
          "output_type": "display_data",
          "data": {
            "text/plain": [
              "<Figure size 432x288 with 1 Axes>"
            ],
            "image/png": "[encoded data removed]"
          },
          "metadata": {
            "needs_background": "light"
          }
        }
      ],
      "source": [
        "# Create a subplot with 2 rows and 3 columns\n",
        "plt.subplot(233)\n",
        "\n",
        "# Plot the training and testing accuracies\n",
        "plt.plot([10, 50, 100, 150, 200], rf_grid.cv_results_['mean_test_score'])\n",
        "\n",
        "# Set the title, x-axis label and y-axis label\n",
        "plt.title('Random Forest')\n",
        "plt.xlabel('Number of Estimators')\n",
        "plt.ylabel('Accuracy')\n"
      ]
    },
    {
      "cell_type": "markdown",
      "metadata": {
        "id": "KsfPR2gWTkOH"
      },
      "source": [
        "## 4. Bagging :"
      ]
    },
    {
      "cell_type": "code",
      "execution_count": 16,
      "metadata": {
        "colab": {
          "base_uri": "https://localhost:8080/",
          "height": 195
        },
        "id": "5jY9q9CHTkOI",
        "outputId": "56aefe5d-dfb6-488b-9250-b2c1920d7c75"
      },
      "outputs": [
        {
          "output_type": "execute_result",
          "data": {
            "text/plain": [
              "Text(0, 0.5, 'Accuracy')"
            ]
          },
          "metadata": {},
          "execution_count": 16
        },
        {
          "output_type": "display_data",
          "data": {
            "text/plain": [
              "<Figure size 432x288 with 1 Axes>"
            ],
            "image/png": "[encoded data removed]"
          },
          "metadata": {
            "needs_background": "light"
          }
        }
      ],
      "source": [
        "# Create a subplot with 2 rows and 3 columns\n",
        "plt.subplot(234)\n",
        "\n",
        "# Plot the training and testing accuracies\n",
        "plt.plot([10, 50, 100, 150, 200], bag_grid.cv_results_['mean_test_score'])\n",
        "\n",
        "# Set the title, x-axis label and y-axis label\n",
        "plt.title('Bagging')\n",
        "plt.xlabel('Number of Estimators')\n",
        "plt.ylabel('Accuracy')\n"
      ]
    },
    {
      "cell_type": "markdown",
      "metadata": {
        "id": "hjKipqVeTkOI"
      },
      "source": [
        "## 5. AdaBoost :"
      ]
    },
    {
      "cell_type": "code",
      "execution_count": 17,
      "metadata": {
        "colab": {
          "base_uri": "https://localhost:8080/",
          "height": 179
        },
        "id": "BpMfxVBUTkOI",
        "outputId": "580857e2-f91d-4e61-cc0a-f1daca753c1d"
      },
      "outputs": [
        {
          "output_type": "execute_result",
          "data": {
            "text/plain": [
              "Text(0, 0.5, 'Accuracy')"
            ]
          },
          "metadata": {},
          "execution_count": 17
        },
        {
          "output_type": "display_data",
          "data": {
            "text/plain": [
              "<Figure size 432x288 with 1 Axes>"
            ],
            "image/png": "[encoded data removed]"
          },
          "metadata": {
            "needs_background": "light"
          }
        }
      ],
      "source": [
        "# Create a subplot with 2 rows and 3 columns\n",
        "plt.subplot(235)\n",
        "\n",
        "# Plot the training and testing accuracies\n",
        "plt.plot([10, 50, 100, 150, 200], ada_grid.cv_results_['mean_test_score'])\n",
        "\n",
        "# Set the title, x-axis label and y-axis label\n",
        "plt.xlabel('Number of Estimators')\n",
        "plt.ylabel('Accuracy')\n"
      ]
    },
    {
      "cell_type": "markdown",
      "metadata": {
        "id": "uTP0InHsTkOJ"
      },
      "source": [
        "## 6. SVM :"
      ]
    },
    {
      "cell_type": "code",
      "execution_count": 18,
      "metadata": {
        "id": "sgFBrf3gTkOJ"
      },
      "outputs": [],
      "source": [
        "# # Create a subplot with 2 rows and 3 columns\n",
        "# plt.subplot(236)\n",
        "\n",
        "# # Extract the training and testing accuracies for linear and rbf kernels\n",
        "# linear_scores = svm_grid.cv_results_['mean_test_score'][::2]\n",
        "# rbf_scores = svm_grid.cv_results_['mean_test_score'][1::2]\n",
        "\n",
        "# # Plot the training and testing accuracies\n",
        "# plt.plot([0.1, 1, 10, 100], linear_scores, label='Linear')\n",
        "# plt.plot([0.1, 1, 10, 100], rbf_scores, label='RBF')\n",
        "\n",
        "# # Set the title, x-axis label and y-axis label\n",
        "# plt.title('SVM')\n",
        "# plt.xlabel('C')\n",
        "# plt.ylabel('Accuracy')\n",
        "# plt.legend()\n"
      ]
    },
    {
      "cell_type": "markdown",
      "metadata": {
        "id": "dLOdayHVTkOJ"
      },
      "source": [
        "## Plot results for each algorithm :"
      ]
    },
    {
      "cell_type": "code",
      "execution_count": 19,
      "metadata": {
        "colab": {
          "base_uri": "https://localhost:8080/",
          "height": 35
        },
        "id": "J8yqQBLwTkOJ",
        "outputId": "d7a6dcdc-c76f-445b-e5c8-e0e41022b7ba"
      },
      "outputs": [
        {
          "output_type": "display_data",
          "data": {
            "text/plain": [
              "<Figure size 432x288 with 0 Axes>"
            ]
          },
          "metadata": {}
        }
      ],
      "source": [
        "# Adjust the layout of the subplots and display the plot\n",
        "plt.tight_layout()\n",
        "plt.show()\n"
      ]
    }
  ],
  "metadata": {
    "kernelspec": {
      "display_name": "Python 3",
      "language": "python",
      "name": "python3"
    },
    "language_info": {
      "codemirror_mode": {
        "name": "ipython",
        "version": 3
      },
      "file_extension": ".py",
      "mimetype": "text/x-python",
      "name": "python",
      "nbconvert_exporter": "python",
      "pygments_lexer": "ipython3",
      "version": "3.9.13"
    },
    "orig_nbformat": 4,
    "colab": {
      "provenance": [],
      "machine_shape": "hm",
      "include_colab_link": true
    },
    "gpuClass": "standard"
  },
  "nbformat": 4,
  "nbformat_minor": 0
}